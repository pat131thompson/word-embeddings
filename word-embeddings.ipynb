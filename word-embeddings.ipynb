{
 "cells": [
  {
   "cell_type": "code",
   "execution_count": null,
   "id": "71b6ad7b",
   "metadata": {},
   "outputs": [],
   "source": [
    "# Import the gensim library to work with word vectors\n",
    "# The \"as api\" import allows us to easily download pre-trained models\n",
    "# KeyedVectors is used to handle the word vectors efficiently \n",
    "\n",
    "from gensim.models import KeyedVectors\n",
    "import gensim.downloader as api"
   ]
  },
  {
   "cell_type": "code",
   "execution_count": null,
   "id": "bb2aec33",
   "metadata": {},
   "outputs": [],
   "source": [
    "# List all available models from the gensim downloader\n",
    "\n",
    "print(\"Available models:\\n\")\n",
    "for model_name in api.info()['models'].keys():\n",
    "    print(model_name)"
   ]
  },
  {
   "cell_type": "code",
   "execution_count": null,
   "id": "cee42e5c",
   "metadata": {},
   "outputs": [],
   "source": [
    "# Here we load a specific pre-trained model, in this case, GloVe vectors trained on Twitter data\n",
    "\n",
    "model = api.load(\"glove-twitter-50\")"
   ]
  },
  {
   "cell_type": "code",
   "execution_count": null,
   "id": "8184c769",
   "metadata": {},
   "outputs": [],
   "source": [
    "# Display the vector for the word \"abuse\"\n",
    "print(\"\\nVector for 'abuse':\\n\", model['abuse'])"
   ]
  },
  {
   "cell_type": "code",
   "execution_count": null,
   "id": "dbee034e",
   "metadata": {},
   "outputs": [],
   "source": [
    "# Looking up a words associated to Domestic Violence (physical) in the model and identifying similar words \n",
    "\n",
    "similar_words = model.most_similar(positive = [\"abuse\", \"domestic\", \"assault\"], topn = 20)\n",
    "\n",
    "for word, similarity in similar_words:\n",
    "    print(f\"{word}: {similarity:.4f}\")"
   ]
  },
  {
   "cell_type": "code",
   "execution_count": null,
   "id": "8294db2f",
   "metadata": {},
   "outputs": [],
   "source": [
    "# Looking up a words associated to Domestic Violence (non-physical) in the model and identifying similar words \n",
    "\n",
    "similar_words = model.most_similar(positive=[\"emotional\", \"abuse\", \"psychological\"], topn=20)\n",
    "\n",
    "for word, similarity in similar_words:\n",
    "    print(f\"{word}: {similarity:.4f}\")"
   ]
  },
  {
   "cell_type": "code",
   "execution_count": null,
   "id": "fa050f5d",
   "metadata": {},
   "outputs": [],
   "source": [
    "# Looking for analogous words.\n",
    "\n",
    "analogous = model.most_similar(positive=[\"rape\", \"assault\"], negative=[\"theft\"], topn = 20)\n",
    "for word, analogy in analogous:\n",
    "    print(f\"{word}: {analogy:.4f}\")  "
   ]
  }
 ],
 "metadata": {
  "kernelspec": {
   "display_name": "word-embeddings",
   "language": "python",
   "name": "python3"
  },
  "language_info": {
   "codemirror_mode": {
    "name": "ipython",
    "version": 3
   },
   "file_extension": ".py",
   "mimetype": "text/x-python",
   "name": "python",
   "nbconvert_exporter": "python",
   "pygments_lexer": "ipython3",
   "version": "3.12.9"
  }
 },
 "nbformat": 4,
 "nbformat_minor": 5
}

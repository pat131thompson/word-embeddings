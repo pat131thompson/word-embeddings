{
 "cells": [
  {
   "cell_type": "code",
   "execution_count": null,
   "id": "71b6ad7b",
   "metadata": {},
   "outputs": [],
   "source": [
    "'''\n",
    "Import the gensim library to work with word vectors\n",
    "The as api import allows us to easily download pre-trained models\n",
    "KeyedVectors is used to handle the word vectors efficiently \n",
    "'''\n",
    "from gensim.models import KeyedVectors\n",
    "import gensim.downloader as api"
   ]
  },
  {
   "cell_type": "code",
   "execution_count": 6,
   "id": "bb2aec33",
   "metadata": {},
   "outputs": [
    {
     "name": "stdout",
     "output_type": "stream",
     "text": [
      "Available models:\n",
      "\n",
      "fasttext-wiki-news-subwords-300\n",
      "conceptnet-numberbatch-17-06-300\n",
      "word2vec-ruscorpora-300\n",
      "word2vec-google-news-300\n",
      "glove-wiki-gigaword-50\n",
      "glove-wiki-gigaword-100\n",
      "glove-wiki-gigaword-200\n",
      "glove-wiki-gigaword-300\n",
      "glove-twitter-25\n",
      "glove-twitter-50\n",
      "glove-twitter-100\n",
      "glove-twitter-200\n",
      "__testing_word2vec-matrix-synopsis\n"
     ]
    }
   ],
   "source": [
    "# List all available models from the gensim downloader\n",
    "print(\"Available models:\\n\")\n",
    "for model_name in api.info()['models'].keys():\n",
    "    print(model_name)"
   ]
  },
  {
   "cell_type": "code",
   "execution_count": 7,
   "id": "cee42e5c",
   "metadata": {},
   "outputs": [
    {
     "name": "stdout",
     "output_type": "stream",
     "text": [
      "[==================================================] 100.0% 199.5/199.5MB downloaded\n"
     ]
    }
   ],
   "source": [
    "# Load the pre-trained word vectors from a binary file\n",
    "# The file 'GoogleNews-vectors-negative300.bin' contains word vectors trained on Google News data\n",
    "\n",
    "model = api.load(\"glove-twitter-50\")"
   ]
  },
  {
   "cell_type": "code",
   "execution_count": 15,
   "id": "dbee034e",
   "metadata": {},
   "outputs": [
    {
     "name": "stdout",
     "output_type": "stream",
     "text": [
      "\n",
      "Most similar words to 'knife':\n",
      "\n",
      "fork: 0.8200\n",
      "sword: 0.7996\n",
      "rope: 0.7915\n",
      "blade: 0.7884\n",
      "hammer: 0.7757\n",
      "spoon: 0.7756\n",
      "bullet: 0.7733\n",
      "arm: 0.7698\n",
      "hole: 0.7667\n",
      "knives: 0.7633\n"
     ]
    }
   ],
   "source": [
    "# Looking up a word in the model and identifying similar words \n",
    "\n",
    "similar_words = model.most_similar('knife')\n",
    "print(\"\\nMost similar words to 'knife':\\n\")\n",
    "for word, similarity in similar_words:\n",
    "    print(f\"{word}: {similarity:.4f}\")  "
   ]
  },
  {
   "cell_type": "code",
   "execution_count": null,
   "id": "fa050f5d",
   "metadata": {},
   "outputs": [
    {
     "name": "stdout",
     "output_type": "stream",
     "text": [
      "[('prince', 0.7597796320915222), ('stone', 0.7595877051353455), ('queen', 0.7546268701553345), ('meets', 0.7404001951217651), ('royal', 0.7376409769058228), ('african', 0.7345032095909119), ('american', 0.7139527201652527), ('virgin', 0.7101486921310425), ('mother', 0.7023203372955322), ('called', 0.6990438103675842)]\n",
      "prince: 0.7598\n",
      "stone: 0.7596\n",
      "queen: 0.7546\n",
      "meets: 0.7404\n",
      "royal: 0.7376\n",
      "african: 0.7345\n",
      "american: 0.7140\n",
      "virgin: 0.7101\n",
      "mother: 0.7023\n",
      "called: 0.6990\n"
     ]
    }
   ],
   "source": [
    "# Looking for analogous words.\n",
    "\n",
    "analogous = model.most_similar(positive=[\"king\", \"woman\"], negative=[\"man\"])\n",
    "for word, analogy in analogous:\n",
    "    print(f\"{word}: {analogy:.4f}\")  "
   ]
  },
  {
   "cell_type": "code",
   "execution_count": 23,
   "id": "b15e9366",
   "metadata": {},
   "outputs": [
    {
     "name": "stdout",
     "output_type": "stream",
     "text": [
      "\n",
      "Analogous words:  'king' is to 'man' as 'queen' is to 'prince'.\n"
     ]
    }
   ],
   "source": [
    "first_word = analogous[0][0]\n",
    "print (f\"\\nAnalogous words:  'king' is to 'man' as 'queen' is to '{first_word}'.\")"
   ]
  },
  {
   "cell_type": "code",
   "execution_count": null,
   "id": "73322ae2",
   "metadata": {},
   "outputs": [],
   "source": []
  }
 ],
 "metadata": {
  "kernelspec": {
   "display_name": "word-embeddings",
   "language": "python",
   "name": "python3"
  },
  "language_info": {
   "codemirror_mode": {
    "name": "ipython",
    "version": 3
   },
   "file_extension": ".py",
   "mimetype": "text/x-python",
   "name": "python",
   "nbconvert_exporter": "python",
   "pygments_lexer": "ipython3",
   "version": "3.12.9"
  }
 },
 "nbformat": 4,
 "nbformat_minor": 5
}
